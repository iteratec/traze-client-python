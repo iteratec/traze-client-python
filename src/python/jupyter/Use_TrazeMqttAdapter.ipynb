{
 "cells": [
  {
   "cell_type": "code",
   "execution_count": null,
   "metadata": {},
   "outputs": [],
   "source": [
    "import sys\n",
    "import time\n",
    "sys.path.append(\"../main\") # go to main dir\n",
    "\n",
    "from TrazeMqttAdapter import TrazeMqttAdapter\n",
    "\n",
    "bridge = TrazeMqttAdapter(\"HansWurst\")"
   ]
  },
  {
   "cell_type": "code",
   "execution_count": null,
   "metadata": {},
   "outputs": [],
   "source": [
    "while not bridge.games():\n",
    "    time.sleep(1)\n",
    "\n",
    "gameName, playerCount = next(iter(bridge.games().items()))\n",
    "\n",
    "player = bridge.join(gameName)"
   ]
  },
  {
   "cell_type": "code",
   "execution_count": null,
   "metadata": {},
   "outputs": [],
   "source": [
    "def onUpdate():\n",
    "    print(player)\n",
    "    \n",
    "player.subscribe(onUpdate, wait = True)\n",
    "\n",
    "player.steer('N')\n",
    "player.steer('E')\n",
    "player.steer('N')"
   ]
  },
  {
   "cell_type": "code",
   "execution_count": null,
   "metadata": {},
   "outputs": [],
   "source": [
    "import time\n",
    "time.sleep(10)"
   ]
  },
  {
   "cell_type": "code",
   "execution_count": null,
   "metadata": {},
   "outputs": [],
   "source": [
    "player.bail()\n",
    "\n",
    "# possible\n",
    "# bridge.join(gameName)\n",
    "# bridge.bail()"
   ]
  },
  {
   "cell_type": "code",
   "execution_count": null,
   "metadata": {},
   "outputs": [],
   "source": [
    "bridge.destroy()"
   ]
  },
  {
   "cell_type": "code",
   "execution_count": null,
   "metadata": {},
   "outputs": [],
   "source": []
  }
 ],
 "metadata": {
  "kernelspec": {
   "display_name": "Python 3",
   "language": "python",
   "name": "python3"
  },
  "language_info": {
   "codemirror_mode": {
    "name": "ipython",
    "version": 3
   },
   "file_extension": ".py",
   "mimetype": "text/x-python",
   "name": "python",
   "nbconvert_exporter": "python",
   "pygments_lexer": "ipython3",
   "version": "3.6.4"
  }
 },
 "nbformat": 4,
 "nbformat_minor": 2
}
