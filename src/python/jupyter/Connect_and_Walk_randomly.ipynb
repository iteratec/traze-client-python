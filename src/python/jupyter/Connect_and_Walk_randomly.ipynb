{
 "cells": [
  {
   "cell_type": "code",
   "execution_count": null,
   "metadata": {},
   "outputs": [],
   "source": [
    "import sys\n",
    "import time\n",
    "sys.path.append(\"../main\") # go to main dir\n",
    "\n",
    "from TrazeMqttAdapter import TrazeMqttAdapter\n",
    "\n",
    "mqttAdapter = TrazeMqttAdapter(\"HansWurst\")"
   ]
  },
  {
   "cell_type": "code",
   "execution_count": null,
   "metadata": {},
   "outputs": [],
   "source": [
    "while not mqttAdapter.games():\n",
    "   time.sleep(1)\n",
    "\n",
    "gameName, playerCount = next(iter(mqttAdapter.games().items()))\n",
    "\n",
    "player = mqttAdapter.join(gameName)"
   ]
  },
  {
   "cell_type": "code",
   "execution_count": null,
   "metadata": {},
   "outputs": [],
   "source": [
    "import random\n",
    "\n",
    "directions = {'N' : (0, 1), 'S' : (0, -1), 'E' : (1, 0), 'W' : (-1, 0)}\n",
    "\n",
    "def onUpdate():\n",
    "    # print(player)\n",
    "    validDirs = list()\n",
    "    for dir, delta  in directions.items():\n",
    "        dX, dY = delta\n",
    "        value = player._tiles[player._y + dY][player._x + dX]\n",
    "        if (value == 0):\n",
    "            validDirs.append(dir)\n",
    "    if validDirs:\n",
    "        print(\"valid dirs\", validDirs, 'at', player._x, player._y)\n",
    "        player.steer(random.choice(validDirs))\n",
    "    else:\n",
    "        print(\"bail at\", player._x, player._y)\n",
    "        player.bail()\n",
    "    \n",
    "player.subscribe(onUpdate, wait = True)"
   ]
  },
  {
   "cell_type": "code",
   "execution_count": null,
   "metadata": {},
   "outputs": [],
   "source": [
    "mqttAdapter.destroy()"
   ]
  }
 ],
 "metadata": {
  "kernelspec": {
   "display_name": "Python 3",
   "language": "python",
   "name": "python3"
  },
  "language_info": {
   "codemirror_mode": {
    "name": "ipython",
    "version": 3
   },
   "file_extension": ".py",
   "mimetype": "text/x-python",
   "name": "python",
   "nbconvert_exporter": "python",
   "pygments_lexer": "ipython3",
   "version": "3.6.4"
  }
 },
 "nbformat": 4,
 "nbformat_minor": 2
}
