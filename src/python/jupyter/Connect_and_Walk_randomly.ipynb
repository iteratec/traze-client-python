{
 "cells": [
  {
   "cell_type": "code",
   "execution_count": null,
   "metadata": {},
   "outputs": [],
   "source": [
    "import sys\n",
    "import time\n",
    "sys.path.append(\"../main\") # go to main dir\n",
    "\n",
    "from TrazeMqttAdapter import TrazeMqttAdapter"
   ]
  },
  {
   "cell_type": "code",
   "execution_count": null,
   "metadata": {},
   "outputs": [],
   "source": [
    "import random\n",
    "\n",
    "class RandomBot:\n",
    "    def __init__(self):\n",
    "        self._mqttAdapter = TrazeMqttAdapter(\"HansWurst\")\n",
    "        self._gameName, playerCount = next(iter(self._mqttAdapter.games().items()))\n",
    "        self._lastDir = 'N'\n",
    "        \n",
    "    def __onUpdate__(self, player):\n",
    "        directions = {'N' : (0, 1), 'S' : (0, -1), 'E' : (1, 0), 'W' : (-1, 0)}\n",
    "        validDirs = list()\n",
    "        for dir, delta  in directions.items():\n",
    "            dX, dY = delta\n",
    "            x, y = player._x + dX, player._y + dY\n",
    "            value = player._tiles[y][x]\n",
    "            print(\"  check for\", player._x, player._y, 'at', x, y, 'has value', value)\n",
    "            if (value == 0 and x >= 0 and x <= 60 and y >= 2 and y <= 61):\n",
    "                validDirs.append(dir)\n",
    "\n",
    "        if validDirs: \n",
    "            if self._lastDir not in validDirs:\n",
    "                self._lastDir = random.choice(validDirs)\n",
    "\n",
    "            dX, dY = directions[self._lastDir]\n",
    "            x, y = player._x + dX, player._y + dY\n",
    "            print(\"steer from\", player._x, player._y, 'to', x, y, '(' + self._lastDir + ')')\n",
    "            player.steer(self._lastDir)\n",
    "        else:\n",
    "            print(\"bail\")\n",
    "            player.bail()\n",
    "            \n",
    "    def play(self):\n",
    "        player = self._mqttAdapter.join(self._gameName)\n",
    "        player.subscribe(self.__onUpdate__, wait = True)\n",
    "\n",
    "        # wait for death\n",
    "        while(player.isAlive()):\n",
    "           time.sleep(0.5)\n",
    "                \n",
    "    def die(self):\n",
    "        self._mqttAdapter.destroy()        "
   ]
  },
  {
   "cell_type": "code",
   "execution_count": null,
   "metadata": {},
   "outputs": [],
   "source": [
    "bot = RandomBot()\n",
    "bot.play()"
   ]
  },
  {
   "cell_type": "code",
   "execution_count": null,
   "metadata": {},
   "outputs": [],
   "source": [
    "bot.die()"
   ]
  },
  {
   "cell_type": "code",
   "execution_count": null,
   "metadata": {},
   "outputs": [],
   "source": []
  }
 ],
 "metadata": {
  "kernelspec": {
   "display_name": "Python 3",
   "language": "python",
   "name": "python3"
  },
  "language_info": {
   "codemirror_mode": {
    "name": "ipython",
    "version": 3
   },
   "file_extension": ".py",
   "mimetype": "text/x-python",
   "name": "python",
   "nbconvert_exporter": "python",
   "pygments_lexer": "ipython3",
   "version": "3.6.4"
  }
 },
 "nbformat": 4,
 "nbformat_minor": 2
}
