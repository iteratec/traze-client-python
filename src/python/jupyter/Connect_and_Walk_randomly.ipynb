{
 "cells": [
  {
   "cell_type": "code",
   "execution_count": 5,
   "metadata": {},
   "outputs": [],
   "source": [
    "import sys\n",
    "import time\n",
    "sys.path.append(\"../main\") # go to main dir\n",
    "\n",
    "from TrazeMqttAdapter import TrazeMqttAdapter"
   ]
  },
  {
   "cell_type": "code",
   "execution_count": 6,
   "metadata": {},
   "outputs": [],
   "source": [
    "import random\n",
    "\n",
    "class RandomBot:\n",
    "    def __init__(self):\n",
    "        self._mqttAdapter = TrazeMqttAdapter(\"HansWurst\")\n",
    "        self._gameName, playerCount = next(iter(self._mqttAdapter.games().items()))\n",
    "        self._lastDir = 'N'\n",
    "        \n",
    "    def __onUpdate__(self, player):\n",
    "        directions = {'N' : (0, 1), 'S' : (0, -1), 'E' : (1, 0), 'W' : (-1, 0)}\n",
    "        invalidDirs = set()\n",
    "        for dir, delta  in directions.items():\n",
    "            dX, dY = delta\n",
    "            x, y = player._x + dX, player._y + dY\n",
    "            if (x < 0 or x > 61 or y < 0 or y > 61):\n",
    "                invalidDirs.add(dir)\n",
    "                continue\n",
    "\n",
    "            for player_id, trail in player._trails.items():\n",
    "                if ([x,y] in trail):\n",
    "                    invalidDirs.add(dir)\n",
    "\n",
    "        validDirs = set(directions.keys()).difference(invalidDirs)\n",
    "        if validDirs: \n",
    "            if self._lastDir not in validDirs:\n",
    "                self._lastDir = random.choice(tuple(validDirs))\n",
    "\n",
    "            dX, dY = directions[self._lastDir]\n",
    "            x, y = player._x + dX, player._y + dY\n",
    "            # print(\"steer from\", player._x, player._y, 'to', x, y, '(' + self._lastDir + ')')\n",
    "            player.steer(self._lastDir)\n",
    "        else:\n",
    "            player.bail()\n",
    "            \n",
    "    def play(self, count:int = 1):\n",
    "        for i in range(1, count + 1):\n",
    "            self._player = self._mqttAdapter.join(self._gameName)\n",
    "            self._player.subscribe(self.__onUpdate__, wait = True)\n",
    "            print(\"start game\", i)\n",
    "\n",
    "            # wait for death\n",
    "            while(self._player.isAlive()):\n",
    "               time.sleep(0.5)\n",
    "            print(\"end game\", i)\n",
    "\n",
    "    def die(self):\n",
    "        self._player.die()\n"
   ]
  },
  {
   "cell_type": "code",
   "execution_count": null,
   "metadata": {},
   "outputs": [
    {
     "name": "stdout",
     "output_type": "stream",
     "text": [
      "Connected MQTT broker.\n",
      "Welcome 'HansWurst'!\n",
      "\n",
      "start game 1\n"
     ]
    }
   ],
   "source": [
    "bot = RandomBot()\n",
    "bot.play()"
   ]
  },
  {
   "cell_type": "code",
   "execution_count": null,
   "metadata": {},
   "outputs": [],
   "source": [
    "bot.die()"
   ]
  },
  {
   "cell_type": "code",
   "execution_count": null,
   "metadata": {},
   "outputs": [],
   "source": []
  }
 ],
 "metadata": {
  "kernelspec": {
   "display_name": "Python 3",
   "language": "python",
   "name": "python3"
  },
  "language_info": {
   "codemirror_mode": {
    "name": "ipython",
    "version": 3
   },
   "file_extension": ".py",
   "mimetype": "text/x-python",
   "name": "python",
   "nbconvert_exporter": "python",
   "pygments_lexer": "ipython3",
   "version": "3.6.4"
  }
 },
 "nbformat": 4,
 "nbformat_minor": 2
}
