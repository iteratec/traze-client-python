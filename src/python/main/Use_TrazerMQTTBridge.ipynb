{
 "cells": [
  {
   "cell_type": "code",
   "execution_count": 5,
   "metadata": {},
   "outputs": [
    {
     "name": "stdout",
     "output_type": "stream",
     "text": [
      "Connected MQTT broker.\n"
     ]
    }
   ],
   "source": [
    "from TrazerMQTTBridge import TrazerMQTTBridge\n",
    "\n",
    "bridge = TrazerMQTTBridge(\"HansWurst\")"
   ]
  },
  {
   "cell_type": "code",
   "execution_count": 6,
   "metadata": {},
   "outputs": [
    {
     "name": "stdout",
     "output_type": "stream",
     "text": [
      "updated game data: {'dummyGame': 5}\n",
      "\n",
      "updated game data: {'dummyGame': 5}\n",
      "\n",
      "Welcome 'HansWurst' in game 'dummyGame'!\n",
      "\n"
     ]
    }
   ],
   "source": [
    "gameName = list(bridge.games())[0];\n",
    "bridge.join(gameName)"
   ]
  },
  {
   "cell_type": "code",
   "execution_count": 7,
   "metadata": {},
   "outputs": [
    {
     "name": "stdout",
     "output_type": "stream",
     "text": [
      "updated game data: {'dummyGame': 5}\n",
      "\n",
      "Welcome 'HansWurst' in game 'dummyGame'!\n",
      "\n"
     ]
    }
   ],
   "source": [
    "bridge.bail()\n",
    "\n",
    "# possible\n",
    "# bridge.join(gameName)\n",
    "# bridge.bail()"
   ]
  },
  {
   "cell_type": "code",
   "execution_count": 8,
   "metadata": {},
   "outputs": [],
   "source": [
    "bridge.destroy()"
   ]
  },
  {
   "cell_type": "code",
   "execution_count": null,
   "metadata": {},
   "outputs": [],
   "source": []
  }
 ],
 "metadata": {
  "kernelspec": {
   "display_name": "Python 3",
   "language": "python",
   "name": "python3"
  },
  "language_info": {
   "codemirror_mode": {
    "name": "ipython",
    "version": 3
   },
   "file_extension": ".py",
   "mimetype": "text/x-python",
   "name": "python",
   "nbconvert_exporter": "python",
   "pygments_lexer": "ipython3",
   "version": "3.6.4"
  }
 },
 "nbformat": 4,
 "nbformat_minor": 2
}
