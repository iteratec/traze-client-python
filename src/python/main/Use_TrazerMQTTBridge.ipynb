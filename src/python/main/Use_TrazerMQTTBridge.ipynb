{
 "cells": [
  {
   "cell_type": "code",
   "execution_count": 1,
   "metadata": {},
   "outputs": [
    {
     "name": "stdout",
     "output_type": "stream",
     "text": [
      "Connected with result code  0\n"
     ]
    }
   ],
   "source": [
    "from TrazerMQTTBridge import TrazerMQTTBridge\n",
    "\n",
    "bridge = TrazerMQTTBridge(\"HansWurst\")"
   ]
  },
  {
   "cell_type": "code",
   "execution_count": 2,
   "metadata": {},
   "outputs": [
    {
     "name": "stdout",
     "output_type": "stream",
     "text": [
      "update game data\n",
      "\n",
      "Unknown game: 'gameName'!\n",
      "update player data\n",
      "\n",
      "Welcome 'HansWurst' in game 'dummyGame'!\n",
      "\n"
     ]
    }
   ],
   "source": [
    "gameName = list(bridge.games())[0];\n",
    "bridge.join('gameName')\n",
    "bridge.join(gameName)"
   ]
  },
  {
   "cell_type": "code",
   "execution_count": 3,
   "metadata": {},
   "outputs": [],
   "source": [
    "bridge.bail()"
   ]
  },
  {
   "cell_type": "code",
   "execution_count": null,
   "metadata": {},
   "outputs": [],
   "source": []
  }
 ],
 "metadata": {
  "kernelspec": {
   "display_name": "Python [default]",
   "language": "python",
   "name": "python3"
  },
  "language_info": {
   "codemirror_mode": {
    "name": "ipython",
    "version": 3
   },
   "file_extension": ".py",
   "mimetype": "text/x-python",
   "name": "python",
   "nbconvert_exporter": "python",
   "pygments_lexer": "ipython3",
   "version": "3.6.4"
  }
 },
 "nbformat": 4,
 "nbformat_minor": 2
}
