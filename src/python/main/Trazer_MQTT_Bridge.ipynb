{
 "cells": [
  {
   "cell_type": "code",
   "execution_count": 29,
   "metadata": {},
   "outputs": [],
   "source": [
    "import json\n",
    "import paho.mqtt.client as mqtt\n",
    "from time import sleep\n",
    "\n",
    "# r: traze/games\n",
    "# [ { \\\"name\\\": \\\"dummyGame\\\", \\\"activePlayers\\\": 5 } ] \n",
    "# s: traze/{instanceName}/join\n",
    "# r: traze/{instanceName}/player/{playerName}\n",
    "# \\\"you\\\": { \\\"id\\\": 1337, \\\"name\\\": \\\"HansWurst\\\", \\\"secretUserToken\\\":\\\"secret\\\", \\\"position\\\": (15,3) }\n",
    "# s: traze/{instanceName}/{playerId}/steer\n",
    "# s: ...\n",
    "# s: traze/{instanceName}/{playerId}/bail\n",
    "#\n",
    "# r: traze/{instanceName}/grid\n",
    "# r: traze/{instanceName}/players\n",
    "# r: traze/{instanceName}/ticker\n",
    "\n",
    "class TrazerMQTTBridge:\n",
    "    def __init__(self, playerName, host='localhost'):\n",
    "        self._playerName = playerName\n",
    "        self._gameName = ''\n",
    "        self._games = {}\n",
    "        self._player = {}\n",
    "        \n",
    "        self._client = mqtt.Client()\n",
    "        self._client.on_connect = self.on_connect\n",
    "        self._client.connect(host, 1883, 60)\n",
    "\n",
    "        self._client.loop_start()\n",
    "    \n",
    "    def topic(*subTopics) -> str:\n",
    "        return \"/\".join(['traze', *subTopics])\n",
    "\n",
    "    # The callback for when the client receives a CONNACK response from the server.\n",
    "    def on_connect(self, client, userdata, flags, rc):\n",
    "        print(\"Connected with result code \", str(rc))\n",
    "        \n",
    "        def on_games(client, userdata, message):\n",
    "            gameData = json.loads(message.payload.decode('utf-8'))\n",
    "            print(\"update game data\\n\")\n",
    "            for game in gameData:\n",
    "                self._games[game['name']] = game['activePlayers']\n",
    "\n",
    "        def on_grid(client, userdata, message):\n",
    "            if (message.topic != topic(self._gameName, 'grid')):\n",
    "                print(\"on_grid: ignoring %s\\n\" % (message.topic))\n",
    "                return\n",
    "            print(\"on_grid: %s\\n\" % (message.payload))\n",
    "\n",
    "        def on_players(client, userdata, message):\n",
    "            if (message.topic != topic(self._gameName, 'players')):\n",
    "                print(\"on_players: ignoring %s\\n\" % (message.topic))\n",
    "                return\n",
    "            print(\"on_players: %s\\n\" % (message.payload))\n",
    "\n",
    "        def on_ticker(client, userdata, message):\n",
    "            if (message.topic != topic(self._gameName, 'ticker')):\n",
    "                print(\"on_ticker: ignoring %s\\n\" % (message.topic))\n",
    "                return\n",
    "            print(\"on_ticker: %s\\n\" % (message.payload))\n",
    "\n",
    "        def on_player(client, userdata, message):\n",
    "            if (message.topic != topic(self._gameName, 'player', self._playerName)):\n",
    "                print(\"on_player: ignoring %s\\n\" % (message.topic))\n",
    "                return\n",
    "            playerData = json.loads('{' + message.payload.decode('utf-8') + '}')\n",
    "            self._player = playerData['you']\n",
    "            print(\"update player data\\n\")\n",
    "            \n",
    "        # set callbacks for game handling  \n",
    "        client.subscribe('traze/#')\n",
    "        client.message_callback_add(topic('games'), on_games)\n",
    "        client.message_callback_add(topic('+', 'grid'), on_grid)\n",
    "        client.message_callback_add(topic('+', 'players'), on_players)\n",
    "        client.message_callback_add(topic('+', 'ticker'), on_ticker)\n",
    "        client.message_callback_add(topic('+', 'player', '+'), on_player)\n",
    "\n",
    "    def games(self):\n",
    "        while not self._games:\n",
    "            sleep(1)\n",
    "        return self._games\n",
    "\n",
    "    def join(self, gameName):\n",
    "        self._gameName = gameName\n",
    "        \n",
    "        playerData = json.dumps({ 'name' : self._playerName})\n",
    "        self._client.publish(topic(self._gameName, 'join'), playerData)\n",
    "        \n",
    "        while not self._player:\n",
    "            sleep(1)\n",
    "        print(\"Welcome '%s' in game '%s'!\\n\" % (self._playerName, self._gameName))\n",
    "        \n",
    "    def bail(self):\n",
    "        self._client.publish(topic(self._gameName, self._player['id'], 'bail'))\n",
    "        self._client.loop_stop()\n",
    "        self._gameName = ''\n",
    "        self._games = {}\n",
    "        self._player = {}\n"
   ]
  },
  {
   "cell_type": "code",
   "execution_count": 30,
   "metadata": {},
   "outputs": [
    {
     "name": "stdout",
     "output_type": "stream",
     "text": [
      "Connected with result code  0\n"
     ]
    }
   ],
   "source": [
    "bridge = TrazerMQTTBridge(\"HansWurst\")"
   ]
  },
  {
   "cell_type": "code",
   "execution_count": 31,
   "metadata": {},
   "outputs": [
    {
     "name": "stdout",
     "output_type": "stream",
     "text": [
      "update game data\n",
      "\n",
      "update player data\n",
      "\n",
      "Welcome 'HansWurst' in game 'dummyGame'!\n",
      "\n"
     ]
    }
   ],
   "source": [
    "gameName = list(bridge.games())[0];\n",
    "bridge.join(gameName)"
   ]
  },
  {
   "cell_type": "code",
   "execution_count": 32,
   "metadata": {},
   "outputs": [
    {
     "ename": "TypeError",
     "evalue": "sequence item 2: expected str instance, int found",
     "output_type": "error",
     "traceback": [
      "\u001b[1;31m---------------------------------------------------------------------------\u001b[0m",
      "\u001b[1;31mTypeError\u001b[0m                                 Traceback (most recent call last)",
      "\u001b[1;32m<ipython-input-32-aca099672da0>\u001b[0m in \u001b[0;36m<module>\u001b[1;34m()\u001b[0m\n\u001b[1;32m----> 1\u001b[1;33m \u001b[0mbridge\u001b[0m\u001b[1;33m.\u001b[0m\u001b[0mbail\u001b[0m\u001b[1;33m(\u001b[0m\u001b[1;33m)\u001b[0m\u001b[1;33m\u001b[0m\u001b[0m\n\u001b[0m",
      "\u001b[1;32m<ipython-input-29-54680395abb2>\u001b[0m in \u001b[0;36mbail\u001b[1;34m(self)\u001b[0m\n\u001b[0;32m     92\u001b[0m \u001b[1;33m\u001b[0m\u001b[0m\n\u001b[0;32m     93\u001b[0m     \u001b[1;32mdef\u001b[0m \u001b[0mbail\u001b[0m\u001b[1;33m(\u001b[0m\u001b[0mself\u001b[0m\u001b[1;33m)\u001b[0m\u001b[1;33m:\u001b[0m\u001b[1;33m\u001b[0m\u001b[0m\n\u001b[1;32m---> 94\u001b[1;33m         \u001b[0mself\u001b[0m\u001b[1;33m.\u001b[0m\u001b[0m_client\u001b[0m\u001b[1;33m.\u001b[0m\u001b[0mpublish\u001b[0m\u001b[1;33m(\u001b[0m\u001b[0mtopic\u001b[0m\u001b[1;33m(\u001b[0m\u001b[0mself\u001b[0m\u001b[1;33m.\u001b[0m\u001b[0m_gameName\u001b[0m\u001b[1;33m,\u001b[0m \u001b[0mself\u001b[0m\u001b[1;33m.\u001b[0m\u001b[0m_player\u001b[0m\u001b[1;33m[\u001b[0m\u001b[1;34m'id'\u001b[0m\u001b[1;33m]\u001b[0m\u001b[1;33m,\u001b[0m \u001b[1;34m'bail'\u001b[0m\u001b[1;33m)\u001b[0m\u001b[1;33m)\u001b[0m\u001b[1;33m\u001b[0m\u001b[0m\n\u001b[0m\u001b[0;32m     95\u001b[0m         \u001b[0mself\u001b[0m\u001b[1;33m.\u001b[0m\u001b[0m_client\u001b[0m\u001b[1;33m.\u001b[0m\u001b[0mloop_stop\u001b[0m\u001b[1;33m(\u001b[0m\u001b[1;33m)\u001b[0m\u001b[1;33m\u001b[0m\u001b[0m\n\u001b[0;32m     96\u001b[0m         \u001b[0mself\u001b[0m\u001b[1;33m.\u001b[0m\u001b[0m_gameName\u001b[0m \u001b[1;33m=\u001b[0m \u001b[1;34m''\u001b[0m\u001b[1;33m\u001b[0m\u001b[0m\n",
      "\u001b[1;32m<ipython-input-28-fecacaa68be2>\u001b[0m in \u001b[0;36mtopic\u001b[1;34m(*subTopics)\u001b[0m\n\u001b[0;32m      1\u001b[0m \u001b[1;32mdef\u001b[0m \u001b[0mtopic\u001b[0m\u001b[1;33m(\u001b[0m\u001b[1;33m*\u001b[0m\u001b[0msubTopics\u001b[0m\u001b[1;33m:\u001b[0m \u001b[0mstr\u001b[0m\u001b[1;33m)\u001b[0m \u001b[1;33m->\u001b[0m \u001b[0mstr\u001b[0m\u001b[1;33m:\u001b[0m\u001b[1;33m\u001b[0m\u001b[0m\n\u001b[1;32m----> 2\u001b[1;33m     \u001b[1;32mreturn\u001b[0m \u001b[1;34m\"/\"\u001b[0m\u001b[1;33m.\u001b[0m\u001b[0mjoin\u001b[0m\u001b[1;33m(\u001b[0m\u001b[1;33m[\u001b[0m\u001b[1;34m'traze'\u001b[0m\u001b[1;33m,\u001b[0m \u001b[1;33m*\u001b[0m\u001b[0msubTopics\u001b[0m\u001b[1;33m]\u001b[0m\u001b[1;33m)\u001b[0m\u001b[1;33m\u001b[0m\u001b[0m\n\u001b[0m\u001b[0;32m      3\u001b[0m \u001b[1;33m\u001b[0m\u001b[0m\n\u001b[0;32m      4\u001b[0m \u001b[0mtopic\u001b[0m\u001b[1;33m(\u001b[0m\u001b[1;34m\"goo\"\u001b[0m\u001b[1;33m,\u001b[0m\u001b[1;34m\"ga\"\u001b[0m\u001b[1;33m,\u001b[0m\u001b[1;34m\"guu\"\u001b[0m\u001b[1;33m)\u001b[0m\u001b[1;33m\u001b[0m\u001b[0m\n",
      "\u001b[1;31mTypeError\u001b[0m: sequence item 2: expected str instance, int found"
     ]
    }
   ],
   "source": [
    "bridge.bail()"
   ]
  },
  {
   "cell_type": "code",
   "execution_count": 28,
   "metadata": {},
   "outputs": [
    {
     "data": {
      "text/plain": [
       "'traze/goo/ga/guu'"
      ]
     },
     "execution_count": 28,
     "metadata": {},
     "output_type": "execute_result"
    }
   ],
   "source": [
    "def topic(*subTopics: str) -> str:\n",
    "    return \"/\".join(['traze', *subTopics])\n",
    "\n",
    "topic(\"goo\",\"ga\",\"guu\")"
   ]
  },
  {
   "cell_type": "code",
   "execution_count": null,
   "metadata": {},
   "outputs": [],
   "source": []
  }
 ],
 "metadata": {
  "kernelspec": {
   "display_name": "Python [default]",
   "language": "python",
   "name": "python3"
  },
  "language_info": {
   "codemirror_mode": {
    "name": "ipython",
    "version": 3
   },
   "file_extension": ".py",
   "mimetype": "text/x-python",
   "name": "python",
   "nbconvert_exporter": "python",
   "pygments_lexer": "ipython3",
   "version": "3.6.4"
  }
 },
 "nbformat": 4,
 "nbformat_minor": 2
}
